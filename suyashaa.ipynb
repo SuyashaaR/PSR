{
  "nbformat": 4,
  "nbformat_minor": 0,
  "metadata": {
    "colab": {
      "name": "suyashaa.ipynb",
      "provenance": [],
      "collapsed_sections": [],
      "include_colab_link": true
    },
    "kernelspec": {
      "name": "python3",
      "display_name": "Python 3"
    }
  },
  "cells": [
    {
      "cell_type": "markdown",
      "metadata": {
        "id": "view-in-github",
        "colab_type": "text"
      },
      "source": [
        "<a href=\"https://colab.research.google.com/github/SuyashaaR/PSR/blob/master/suyashaa.ipynb\" target=\"_parent\"><img src=\"https://colab.research.google.com/assets/colab-badge.svg\" alt=\"Open In Colab\"/></a>"
      ]
    },
    {
      "cell_type": "code",
      "metadata": {
        "id": "I_r6dN1-BHsy",
        "colab_type": "code",
        "colab": {}
      },
      "source": [
        "import pandas as pd"
      ],
      "execution_count": 0,
      "outputs": []
    },
    {
      "cell_type": "code",
      "metadata": {
        "id": "5euuTbBbBzhY",
        "colab_type": "code",
        "colab": {}
      },
      "source": [
        "df = pd.read_excel(\"https://github.com/SuyashaaR/PSR/blob/master/PANDAS.xlsx?raw=true\")"
      ],
      "execution_count": 0,
      "outputs": []
    },
    {
      "cell_type": "code",
      "metadata": {
        "id": "sjM3lIvNCA70",
        "colab_type": "code",
        "outputId": "4e2caae9-3835-432e-9f44-dcfde10fed19",
        "colab": {
          "base_uri": "https://localhost:8080/",
          "height": 391
        }
      },
      "source": [
        "df.head()"
      ],
      "execution_count": 0,
      "outputs": [
        {
          "output_type": "execute_result",
          "data": {
            "text/html": [
              "<div>\n",
              "<style scoped>\n",
              "    .dataframe tbody tr th:only-of-type {\n",
              "        vertical-align: middle;\n",
              "    }\n",
              "\n",
              "    .dataframe tbody tr th {\n",
              "        vertical-align: top;\n",
              "    }\n",
              "\n",
              "    .dataframe thead th {\n",
              "        text-align: right;\n",
              "    }\n",
              "</style>\n",
              "<table border=\"1\" class=\"dataframe\">\n",
              "  <thead>\n",
              "    <tr style=\"text-align: right;\">\n",
              "      <th></th>\n",
              "      <th>Enrolled</th>\n",
              "      <th>Age</th>\n",
              "      <th>Gender</th>\n",
              "      <th>Active SMP</th>\n",
              "      <th>Ads. SMP</th>\n",
              "      <th>Online Purchase 6M</th>\n",
              "      <th>R&amp;R Purchase Decsions</th>\n",
              "      <th>Products OS</th>\n",
              "      <th>Decision</th>\n",
              "      <th>Useful ads</th>\n",
              "      <th>Annoying ads</th>\n",
              "      <th>Ads free</th>\n",
              "      <th>Related ads</th>\n",
              "    </tr>\n",
              "  </thead>\n",
              "  <tbody>\n",
              "    <tr>\n",
              "      <th>0</th>\n",
              "      <td>Ph.D</td>\n",
              "      <td>22</td>\n",
              "      <td>Male</td>\n",
              "      <td>Facebook, Linkedin, WhatsApp, YouTube, Quora</td>\n",
              "      <td>Facebook, Instagram, Linkedin, WhatsApp, YouTube</td>\n",
              "      <td>Between 3 to 6 times</td>\n",
              "      <td>No</td>\n",
              "      <td>Clothes, Electronic gadgets, Computer products</td>\n",
              "      <td>Wait</td>\n",
              "      <td>4</td>\n",
              "      <td>1</td>\n",
              "      <td>Yes</td>\n",
              "      <td>Often</td>\n",
              "    </tr>\n",
              "    <tr>\n",
              "      <th>1</th>\n",
              "      <td>Masters'</td>\n",
              "      <td>24</td>\n",
              "      <td>Male</td>\n",
              "      <td>Facebook, Linkedin, WhatsApp, YouTube, Quora</td>\n",
              "      <td>Facebook, YouTube, others</td>\n",
              "      <td>Less than 3 times</td>\n",
              "      <td>No</td>\n",
              "      <td>Electronic gadgets, Computer products, Tickets</td>\n",
              "      <td>Wait</td>\n",
              "      <td>5</td>\n",
              "      <td>1</td>\n",
              "      <td>Yes</td>\n",
              "      <td>Always</td>\n",
              "    </tr>\n",
              "    <tr>\n",
              "      <th>2</th>\n",
              "      <td>Bachelors'</td>\n",
              "      <td>19</td>\n",
              "      <td>Male</td>\n",
              "      <td>WhatsApp, YouTube</td>\n",
              "      <td>Linkedin, YouTube</td>\n",
              "      <td>Less than 3 times</td>\n",
              "      <td>Yes</td>\n",
              "      <td>Books/CDs, Electronic gadgets, Tickets</td>\n",
              "      <td>Wait</td>\n",
              "      <td>3</td>\n",
              "      <td>1</td>\n",
              "      <td>Yes</td>\n",
              "      <td>Sometimes</td>\n",
              "    </tr>\n",
              "    <tr>\n",
              "      <th>3</th>\n",
              "      <td>Bachelors'</td>\n",
              "      <td>20</td>\n",
              "      <td>Male</td>\n",
              "      <td>Facebook, Instagram, WhatsApp, YouTube</td>\n",
              "      <td>Facebook, Instagram, YouTube</td>\n",
              "      <td>Less than 3 times</td>\n",
              "      <td>Maybe</td>\n",
              "      <td>Clothes, Furnitures, Electronic gadgets</td>\n",
              "      <td>DEPENDS</td>\n",
              "      <td>3</td>\n",
              "      <td>4</td>\n",
              "      <td>Yes</td>\n",
              "      <td>Rarely</td>\n",
              "    </tr>\n",
              "    <tr>\n",
              "      <th>4</th>\n",
              "      <td>Bachelors'</td>\n",
              "      <td>19</td>\n",
              "      <td>Male</td>\n",
              "      <td>Twitter, Instagram, WhatsApp, YouTube, Quora, ...</td>\n",
              "      <td>Instagram, YouTube</td>\n",
              "      <td>Less than 3 times</td>\n",
              "      <td>Yes</td>\n",
              "      <td>Clothes, Electronic gadgets, Computer products...</td>\n",
              "      <td>Buy immediately</td>\n",
              "      <td>2</td>\n",
              "      <td>4</td>\n",
              "      <td>No</td>\n",
              "      <td>Sometimes</td>\n",
              "    </tr>\n",
              "  </tbody>\n",
              "</table>\n",
              "</div>"
            ],
            "text/plain": [
              "     Enrolled  Age  Gender   ... Annoying ads Ads free Related ads\n",
              "0        Ph.D    22    Male  ...            1      Yes       Often\n",
              "1    Masters'    24    Male  ...            1      Yes      Always\n",
              "2  Bachelors'    19    Male  ...            1      Yes   Sometimes\n",
              "3  Bachelors'    20    Male  ...            4      Yes      Rarely\n",
              "4  Bachelors'    19    Male  ...            4       No   Sometimes\n",
              "\n",
              "[5 rows x 13 columns]"
            ]
          },
          "metadata": {
            "tags": []
          },
          "execution_count": 219
        }
      ]
    },
    {
      "cell_type": "code",
      "metadata": {
        "id": "n-21X_Y8NS4k",
        "colab_type": "code",
        "colab": {}
      },
      "source": [
        "output_cats = pd.Categorical(df[\"Online Purchase 6M\"])"
      ],
      "execution_count": 0,
      "outputs": []
    },
    {
      "cell_type": "code",
      "metadata": {
        "id": "J6RbTdjvPVCh",
        "colab_type": "code",
        "outputId": "c18eba7c-d07c-4090-fbb1-efd8ec3ec5e2",
        "colab": {
          "base_uri": "https://localhost:8080/",
          "height": 105
        }
      },
      "source": [
        "output_cats"
      ],
      "execution_count": 0,
      "outputs": [
        {
          "output_type": "execute_result",
          "data": {
            "text/plain": [
              "[Between 3 to 6 times, Less than 3 times, Less than 3 times, Less than 3 times, Less than 3 times, ..., Less than 3 times, Less than 3 times, Less than 3 times, Less than 3 times, Less than 3 times]\n",
              "Length: 172\n",
              "Categories (4, object): [Between 3 to 6 times, Between 6 to 9 times, Less than 3 times,\n",
              "                         More than 12 times]"
            ]
          },
          "metadata": {
            "tags": []
          },
          "execution_count": 221
        }
      ]
    },
    {
      "cell_type": "code",
      "metadata": {
        "id": "n25MFrVENjWe",
        "colab_type": "code",
        "colab": {}
      },
      "source": [
        "df[\"output\"] = output_cats.codes"
      ],
      "execution_count": 0,
      "outputs": []
    },
    {
      "cell_type": "code",
      "metadata": {
        "id": "rpo19ky3OhWE",
        "colab_type": "code",
        "colab": {}
      },
      "source": [
        "df.drop(columns=[\"Online Purchase 6M\"], inplace=True)"
      ],
      "execution_count": 0,
      "outputs": []
    },
    {
      "cell_type": "code",
      "metadata": {
        "id": "HvylryOJPDSR",
        "colab_type": "code",
        "outputId": "e2a6887a-8ac4-49e0-9d62-f3565b1c5396",
        "colab": {
          "base_uri": "https://localhost:8080/",
          "height": 374
        }
      },
      "source": [
        "df.head()"
      ],
      "execution_count": 0,
      "outputs": [
        {
          "output_type": "execute_result",
          "data": {
            "text/html": [
              "<div>\n",
              "<style scoped>\n",
              "    .dataframe tbody tr th:only-of-type {\n",
              "        vertical-align: middle;\n",
              "    }\n",
              "\n",
              "    .dataframe tbody tr th {\n",
              "        vertical-align: top;\n",
              "    }\n",
              "\n",
              "    .dataframe thead th {\n",
              "        text-align: right;\n",
              "    }\n",
              "</style>\n",
              "<table border=\"1\" class=\"dataframe\">\n",
              "  <thead>\n",
              "    <tr style=\"text-align: right;\">\n",
              "      <th></th>\n",
              "      <th>Enrolled</th>\n",
              "      <th>Age</th>\n",
              "      <th>Gender</th>\n",
              "      <th>Active SMP</th>\n",
              "      <th>Ads. SMP</th>\n",
              "      <th>R&amp;R Purchase Decsions</th>\n",
              "      <th>Products OS</th>\n",
              "      <th>Decision</th>\n",
              "      <th>Useful ads</th>\n",
              "      <th>Annoying ads</th>\n",
              "      <th>Ads free</th>\n",
              "      <th>Related ads</th>\n",
              "      <th>output</th>\n",
              "    </tr>\n",
              "  </thead>\n",
              "  <tbody>\n",
              "    <tr>\n",
              "      <th>0</th>\n",
              "      <td>Ph.D</td>\n",
              "      <td>22</td>\n",
              "      <td>Male</td>\n",
              "      <td>Facebook, Linkedin, WhatsApp, YouTube, Quora</td>\n",
              "      <td>Facebook, Instagram, Linkedin, WhatsApp, YouTube</td>\n",
              "      <td>No</td>\n",
              "      <td>Clothes, Electronic gadgets, Computer products</td>\n",
              "      <td>Wait</td>\n",
              "      <td>4</td>\n",
              "      <td>1</td>\n",
              "      <td>Yes</td>\n",
              "      <td>Often</td>\n",
              "      <td>0</td>\n",
              "    </tr>\n",
              "    <tr>\n",
              "      <th>1</th>\n",
              "      <td>Masters'</td>\n",
              "      <td>24</td>\n",
              "      <td>Male</td>\n",
              "      <td>Facebook, Linkedin, WhatsApp, YouTube, Quora</td>\n",
              "      <td>Facebook, YouTube, others</td>\n",
              "      <td>No</td>\n",
              "      <td>Electronic gadgets, Computer products, Tickets</td>\n",
              "      <td>Wait</td>\n",
              "      <td>5</td>\n",
              "      <td>1</td>\n",
              "      <td>Yes</td>\n",
              "      <td>Always</td>\n",
              "      <td>2</td>\n",
              "    </tr>\n",
              "    <tr>\n",
              "      <th>2</th>\n",
              "      <td>Bachelors'</td>\n",
              "      <td>19</td>\n",
              "      <td>Male</td>\n",
              "      <td>WhatsApp, YouTube</td>\n",
              "      <td>Linkedin, YouTube</td>\n",
              "      <td>Yes</td>\n",
              "      <td>Books/CDs, Electronic gadgets, Tickets</td>\n",
              "      <td>Wait</td>\n",
              "      <td>3</td>\n",
              "      <td>1</td>\n",
              "      <td>Yes</td>\n",
              "      <td>Sometimes</td>\n",
              "      <td>2</td>\n",
              "    </tr>\n",
              "    <tr>\n",
              "      <th>3</th>\n",
              "      <td>Bachelors'</td>\n",
              "      <td>20</td>\n",
              "      <td>Male</td>\n",
              "      <td>Facebook, Instagram, WhatsApp, YouTube</td>\n",
              "      <td>Facebook, Instagram, YouTube</td>\n",
              "      <td>Maybe</td>\n",
              "      <td>Clothes, Furnitures, Electronic gadgets</td>\n",
              "      <td>DEPENDS</td>\n",
              "      <td>3</td>\n",
              "      <td>4</td>\n",
              "      <td>Yes</td>\n",
              "      <td>Rarely</td>\n",
              "      <td>2</td>\n",
              "    </tr>\n",
              "    <tr>\n",
              "      <th>4</th>\n",
              "      <td>Bachelors'</td>\n",
              "      <td>19</td>\n",
              "      <td>Male</td>\n",
              "      <td>Twitter, Instagram, WhatsApp, YouTube, Quora, ...</td>\n",
              "      <td>Instagram, YouTube</td>\n",
              "      <td>Yes</td>\n",
              "      <td>Clothes, Electronic gadgets, Computer products...</td>\n",
              "      <td>Buy immediately</td>\n",
              "      <td>2</td>\n",
              "      <td>4</td>\n",
              "      <td>No</td>\n",
              "      <td>Sometimes</td>\n",
              "      <td>2</td>\n",
              "    </tr>\n",
              "  </tbody>\n",
              "</table>\n",
              "</div>"
            ],
            "text/plain": [
              "     Enrolled  Age  Gender   ... Ads free Related ads output\n",
              "0        Ph.D    22    Male  ...      Yes       Often      0\n",
              "1    Masters'    24    Male  ...      Yes      Always      2\n",
              "2  Bachelors'    19    Male  ...      Yes   Sometimes      2\n",
              "3  Bachelors'    20    Male  ...      Yes      Rarely      2\n",
              "4  Bachelors'    19    Male  ...       No   Sometimes      2\n",
              "\n",
              "[5 rows x 13 columns]"
            ]
          },
          "metadata": {
            "tags": []
          },
          "execution_count": 224
        }
      ]
    },
    {
      "cell_type": "code",
      "metadata": {
        "id": "wq4gyZ0fXH5Y",
        "colab_type": "code",
        "colab": {}
      },
      "source": [
        "from sklearn.preprocessing import MultiLabelBinarizer\n",
        "mlb = MultiLabelBinarizer()\n"
      ],
      "execution_count": 0,
      "outputs": []
    },
    {
      "cell_type": "code",
      "metadata": {
        "id": "o9dHyjhEXQ_p",
        "colab_type": "code",
        "colab": {}
      },
      "source": [
        "df2 = pd.DataFrame(mlb.fit_transform(df[\"Active SMP\"].str.replace(' ', '').str.split(',')),columns=mlb.classes_, index=df.index)\n"
      ],
      "execution_count": 0,
      "outputs": []
    },
    {
      "cell_type": "code",
      "metadata": {
        "id": "F-csscJPX-Xq",
        "colab_type": "code",
        "outputId": "f99f6a5b-2a5a-4615-dd5d-06559ec0e8f2",
        "colab": {
          "base_uri": "https://localhost:8080/",
          "height": 204
        }
      },
      "source": [
        "pd.DataFrame(mlb.fit_transform(df[\"Active SMP\"].str.replace(' ', '').str.split(',')),columns=mlb.classes_, index=df.index).sum()"
      ],
      "execution_count": 0,
      "outputs": [
        {
          "output_type": "execute_result",
          "data": {
            "text/plain": [
              "Facebook     141\n",
              "Instagram    141\n",
              "Linkedin      54\n",
              "Quora         70\n",
              "Snapchat      30\n",
              "Telegram       5\n",
              "Twitter       40\n",
              "WhatsApp     162\n",
              "YouTube      148\n",
              "others         7\n",
              "dtype: int64"
            ]
          },
          "metadata": {
            "tags": []
          },
          "execution_count": 227
        }
      ]
    },
    {
      "cell_type": "code",
      "metadata": {
        "id": "S2-3EEPHZMQG",
        "colab_type": "code",
        "colab": {}
      },
      "source": [
        "df3 = pd.DataFrame(mlb.fit_transform(df[\"Ads. SMP\"].str.replace(' ', '').str.split(',')),columns=mlb.classes_, index=df.index)"
      ],
      "execution_count": 0,
      "outputs": []
    },
    {
      "cell_type": "code",
      "metadata": {
        "id": "ncQ0lsJfZZ-E",
        "colab_type": "code",
        "outputId": "7318acba-0f57-4764-83d7-c4ea64d3f973",
        "colab": {
          "base_uri": "https://localhost:8080/",
          "height": 187
        }
      },
      "source": [
        "pd.DataFrame(mlb.fit_transform(df[\"Ads. SMP\"].str.replace(' ', '').str.split(',')),columns=mlb.classes_, index=df.index).sum()"
      ],
      "execution_count": 0,
      "outputs": [
        {
          "output_type": "execute_result",
          "data": {
            "text/plain": [
              "Facebook     146\n",
              "Instagram    136\n",
              "Linkedin      18\n",
              "Quora         31\n",
              "Snapchat      11\n",
              "Twitter       16\n",
              "WhatsApp      20\n",
              "YouTube      143\n",
              "others         3\n",
              "dtype: int64"
            ]
          },
          "metadata": {
            "tags": []
          },
          "execution_count": 229
        }
      ]
    },
    {
      "cell_type": "code",
      "metadata": {
        "id": "VQII_TzuZiWi",
        "colab_type": "code",
        "outputId": "d20bbc43-aabc-4e6c-9d82-f7812d8eab4a",
        "colab": {
          "base_uri": "https://localhost:8080/",
          "height": 102
        }
      },
      "source": [
        "bins = [10, 20, 30, 40, 50]\n",
        "group_names = ['10-19', '20-29', '30-39', '40-49']\n",
        "age_categories = pd.cut(df['Age '], bins, labels=group_names)\n",
        "df['age_categories'] = pd.cut(df['Age '], bins, labels=group_names)\n",
        "age_categories\n",
        "pd.value_counts(df['age_categories'])"
      ],
      "execution_count": 0,
      "outputs": [
        {
          "output_type": "execute_result",
          "data": {
            "text/plain": [
              "20-29    87\n",
              "10-19    80\n",
              "30-39     3\n",
              "40-49     1\n",
              "Name: age_categories, dtype: int64"
            ]
          },
          "metadata": {
            "tags": []
          },
          "execution_count": 230
        }
      ]
    },
    {
      "cell_type": "code",
      "metadata": {
        "id": "SL6wyx3lgFwF",
        "colab_type": "code",
        "colab": {}
      },
      "source": [
        "df.drop(columns=[\"Products OS\", \"Age \", \"Enrolled\", \"Active SMP\", \"Ads. SMP\"], inplace=True)\n",
        "df[\"Decision\"] = df[\"Decision\"].str.strip()"
      ],
      "execution_count": 0,
      "outputs": []
    },
    {
      "cell_type": "code",
      "metadata": {
        "id": "MSFmUMpGgbHE",
        "colab_type": "code",
        "outputId": "3b4e2386-2b83-40fa-ca71-ba4a7a070253",
        "colab": {
          "base_uri": "https://localhost:8080/",
          "height": 490
        }
      },
      "source": [
        "df.join(df3)"
      ],
      "execution_count": 0,
      "outputs": [
        {
          "output_type": "execute_result",
          "data": {
            "text/html": [
              "<div>\n",
              "<style scoped>\n",
              "    .dataframe tbody tr th:only-of-type {\n",
              "        vertical-align: middle;\n",
              "    }\n",
              "\n",
              "    .dataframe tbody tr th {\n",
              "        vertical-align: top;\n",
              "    }\n",
              "\n",
              "    .dataframe thead th {\n",
              "        text-align: right;\n",
              "    }\n",
              "</style>\n",
              "<table border=\"1\" class=\"dataframe\">\n",
              "  <thead>\n",
              "    <tr style=\"text-align: right;\">\n",
              "      <th></th>\n",
              "      <th>Gender</th>\n",
              "      <th>R&amp;R Purchase Decsions</th>\n",
              "      <th>Decision</th>\n",
              "      <th>Useful ads</th>\n",
              "      <th>Annoying ads</th>\n",
              "      <th>Ads free</th>\n",
              "      <th>Related ads</th>\n",
              "      <th>output</th>\n",
              "      <th>age_categories</th>\n",
              "      <th>Facebook</th>\n",
              "      <th>Instagram</th>\n",
              "      <th>Linkedin</th>\n",
              "      <th>Quora</th>\n",
              "      <th>Snapchat</th>\n",
              "      <th>Twitter</th>\n",
              "      <th>WhatsApp</th>\n",
              "      <th>YouTube</th>\n",
              "      <th>others</th>\n",
              "    </tr>\n",
              "  </thead>\n",
              "  <tbody>\n",
              "    <tr>\n",
              "      <th>0</th>\n",
              "      <td>Male</td>\n",
              "      <td>No</td>\n",
              "      <td>Wait</td>\n",
              "      <td>4</td>\n",
              "      <td>1</td>\n",
              "      <td>Yes</td>\n",
              "      <td>Often</td>\n",
              "      <td>0</td>\n",
              "      <td>20-29</td>\n",
              "      <td>1</td>\n",
              "      <td>1</td>\n",
              "      <td>1</td>\n",
              "      <td>0</td>\n",
              "      <td>0</td>\n",
              "      <td>0</td>\n",
              "      <td>1</td>\n",
              "      <td>1</td>\n",
              "      <td>0</td>\n",
              "    </tr>\n",
              "    <tr>\n",
              "      <th>1</th>\n",
              "      <td>Male</td>\n",
              "      <td>No</td>\n",
              "      <td>Wait</td>\n",
              "      <td>5</td>\n",
              "      <td>1</td>\n",
              "      <td>Yes</td>\n",
              "      <td>Always</td>\n",
              "      <td>2</td>\n",
              "      <td>20-29</td>\n",
              "      <td>1</td>\n",
              "      <td>0</td>\n",
              "      <td>0</td>\n",
              "      <td>0</td>\n",
              "      <td>0</td>\n",
              "      <td>0</td>\n",
              "      <td>0</td>\n",
              "      <td>1</td>\n",
              "      <td>1</td>\n",
              "    </tr>\n",
              "    <tr>\n",
              "      <th>2</th>\n",
              "      <td>Male</td>\n",
              "      <td>Yes</td>\n",
              "      <td>Wait</td>\n",
              "      <td>3</td>\n",
              "      <td>1</td>\n",
              "      <td>Yes</td>\n",
              "      <td>Sometimes</td>\n",
              "      <td>2</td>\n",
              "      <td>10-19</td>\n",
              "      <td>0</td>\n",
              "      <td>0</td>\n",
              "      <td>1</td>\n",
              "      <td>0</td>\n",
              "      <td>0</td>\n",
              "      <td>0</td>\n",
              "      <td>0</td>\n",
              "      <td>1</td>\n",
              "      <td>0</td>\n",
              "    </tr>\n",
              "    <tr>\n",
              "      <th>3</th>\n",
              "      <td>Male</td>\n",
              "      <td>Maybe</td>\n",
              "      <td>DEPENDS</td>\n",
              "      <td>3</td>\n",
              "      <td>4</td>\n",
              "      <td>Yes</td>\n",
              "      <td>Rarely</td>\n",
              "      <td>2</td>\n",
              "      <td>10-19</td>\n",
              "      <td>1</td>\n",
              "      <td>1</td>\n",
              "      <td>0</td>\n",
              "      <td>0</td>\n",
              "      <td>0</td>\n",
              "      <td>0</td>\n",
              "      <td>0</td>\n",
              "      <td>1</td>\n",
              "      <td>0</td>\n",
              "    </tr>\n",
              "    <tr>\n",
              "      <th>4</th>\n",
              "      <td>Male</td>\n",
              "      <td>Yes</td>\n",
              "      <td>Buy immediately</td>\n",
              "      <td>2</td>\n",
              "      <td>4</td>\n",
              "      <td>No</td>\n",
              "      <td>Sometimes</td>\n",
              "      <td>2</td>\n",
              "      <td>10-19</td>\n",
              "      <td>0</td>\n",
              "      <td>1</td>\n",
              "      <td>0</td>\n",
              "      <td>0</td>\n",
              "      <td>0</td>\n",
              "      <td>0</td>\n",
              "      <td>0</td>\n",
              "      <td>1</td>\n",
              "      <td>0</td>\n",
              "    </tr>\n",
              "    <tr>\n",
              "      <th>...</th>\n",
              "      <td>...</td>\n",
              "      <td>...</td>\n",
              "      <td>...</td>\n",
              "      <td>...</td>\n",
              "      <td>...</td>\n",
              "      <td>...</td>\n",
              "      <td>...</td>\n",
              "      <td>...</td>\n",
              "      <td>...</td>\n",
              "      <td>...</td>\n",
              "      <td>...</td>\n",
              "      <td>...</td>\n",
              "      <td>...</td>\n",
              "      <td>...</td>\n",
              "      <td>...</td>\n",
              "      <td>...</td>\n",
              "      <td>...</td>\n",
              "      <td>...</td>\n",
              "    </tr>\n",
              "    <tr>\n",
              "      <th>167</th>\n",
              "      <td>Female</td>\n",
              "      <td>Yes</td>\n",
              "      <td>Wait</td>\n",
              "      <td>2</td>\n",
              "      <td>2</td>\n",
              "      <td>No</td>\n",
              "      <td>Always</td>\n",
              "      <td>2</td>\n",
              "      <td>20-29</td>\n",
              "      <td>1</td>\n",
              "      <td>0</td>\n",
              "      <td>0</td>\n",
              "      <td>0</td>\n",
              "      <td>0</td>\n",
              "      <td>0</td>\n",
              "      <td>0</td>\n",
              "      <td>1</td>\n",
              "      <td>0</td>\n",
              "    </tr>\n",
              "    <tr>\n",
              "      <th>168</th>\n",
              "      <td>Female</td>\n",
              "      <td>Maybe</td>\n",
              "      <td>DEPENDS</td>\n",
              "      <td>3</td>\n",
              "      <td>4</td>\n",
              "      <td>No</td>\n",
              "      <td>Often</td>\n",
              "      <td>2</td>\n",
              "      <td>20-29</td>\n",
              "      <td>1</td>\n",
              "      <td>1</td>\n",
              "      <td>0</td>\n",
              "      <td>0</td>\n",
              "      <td>0</td>\n",
              "      <td>0</td>\n",
              "      <td>0</td>\n",
              "      <td>1</td>\n",
              "      <td>0</td>\n",
              "    </tr>\n",
              "    <tr>\n",
              "      <th>169</th>\n",
              "      <td>Male</td>\n",
              "      <td>Yes</td>\n",
              "      <td>Wait</td>\n",
              "      <td>3</td>\n",
              "      <td>3</td>\n",
              "      <td>No</td>\n",
              "      <td>Sometimes</td>\n",
              "      <td>2</td>\n",
              "      <td>10-19</td>\n",
              "      <td>1</td>\n",
              "      <td>1</td>\n",
              "      <td>0</td>\n",
              "      <td>1</td>\n",
              "      <td>0</td>\n",
              "      <td>1</td>\n",
              "      <td>0</td>\n",
              "      <td>1</td>\n",
              "      <td>0</td>\n",
              "    </tr>\n",
              "    <tr>\n",
              "      <th>170</th>\n",
              "      <td>Male</td>\n",
              "      <td>Yes</td>\n",
              "      <td>Wait</td>\n",
              "      <td>3</td>\n",
              "      <td>1</td>\n",
              "      <td>Yes</td>\n",
              "      <td>Sometimes</td>\n",
              "      <td>2</td>\n",
              "      <td>10-19</td>\n",
              "      <td>1</td>\n",
              "      <td>1</td>\n",
              "      <td>0</td>\n",
              "      <td>1</td>\n",
              "      <td>0</td>\n",
              "      <td>0</td>\n",
              "      <td>0</td>\n",
              "      <td>1</td>\n",
              "      <td>0</td>\n",
              "    </tr>\n",
              "    <tr>\n",
              "      <th>171</th>\n",
              "      <td>Female</td>\n",
              "      <td>Yes</td>\n",
              "      <td>Wait</td>\n",
              "      <td>4</td>\n",
              "      <td>3</td>\n",
              "      <td>Yes</td>\n",
              "      <td>Sometimes</td>\n",
              "      <td>2</td>\n",
              "      <td>10-19</td>\n",
              "      <td>1</td>\n",
              "      <td>1</td>\n",
              "      <td>0</td>\n",
              "      <td>0</td>\n",
              "      <td>0</td>\n",
              "      <td>0</td>\n",
              "      <td>0</td>\n",
              "      <td>1</td>\n",
              "      <td>0</td>\n",
              "    </tr>\n",
              "  </tbody>\n",
              "</table>\n",
              "<p>172 rows × 18 columns</p>\n",
              "</div>"
            ],
            "text/plain": [
              "    Gender  R&R Purchase Decsions         Decision  ...  WhatsApp  YouTube others\n",
              "0      Male                    No             Wait  ...         1        1      0\n",
              "1      Male                    No             Wait  ...         0        1      1\n",
              "2      Male                   Yes             Wait  ...         0        1      0\n",
              "3      Male                 Maybe          DEPENDS  ...         0        1      0\n",
              "4      Male                   Yes  Buy immediately  ...         0        1      0\n",
              "..      ...                   ...              ...  ...       ...      ...    ...\n",
              "167  Female                   Yes             Wait  ...         0        1      0\n",
              "168  Female                 Maybe          DEPENDS  ...         0        1      0\n",
              "169    Male                   Yes             Wait  ...         0        1      0\n",
              "170    Male                   Yes             Wait  ...         0        1      0\n",
              "171  Female                   Yes             Wait  ...         0        1      0\n",
              "\n",
              "[172 rows x 18 columns]"
            ]
          },
          "metadata": {
            "tags": []
          },
          "execution_count": 232
        }
      ]
    },
    {
      "cell_type": "code",
      "metadata": {
        "id": "UcbbtGV7tTfA",
        "colab_type": "code",
        "colab": {}
      },
      "source": [
        "df4 = pd.get_dummies(df).join(df3)"
      ],
      "execution_count": 0,
      "outputs": []
    },
    {
      "cell_type": "code",
      "metadata": {
        "id": "zKEVEIUgwCtt",
        "colab_type": "code",
        "colab": {}
      },
      "source": [
        ""
      ],
      "execution_count": 0,
      "outputs": []
    },
    {
      "cell_type": "code",
      "metadata": {
        "id": "ihWpkC0FwRvm",
        "colab_type": "code",
        "colab": {}
      },
      "source": [
        ""
      ],
      "execution_count": 0,
      "outputs": []
    },
    {
      "cell_type": "code",
      "metadata": {
        "id": "NWJDa5CS2ZWJ",
        "colab_type": "code",
        "outputId": "cb7057b5-4de8-4b49-ad5f-b7866f456415",
        "colab": {
          "base_uri": "https://localhost:8080/",
          "height": 275
        }
      },
      "source": [
        "df4.head()"
      ],
      "execution_count": 0,
      "outputs": [
        {
          "output_type": "execute_result",
          "data": {
            "text/html": [
              "<div>\n",
              "<style scoped>\n",
              "    .dataframe tbody tr th:only-of-type {\n",
              "        vertical-align: middle;\n",
              "    }\n",
              "\n",
              "    .dataframe tbody tr th {\n",
              "        vertical-align: top;\n",
              "    }\n",
              "\n",
              "    .dataframe thead th {\n",
              "        text-align: right;\n",
              "    }\n",
              "</style>\n",
              "<table border=\"1\" class=\"dataframe\">\n",
              "  <thead>\n",
              "    <tr style=\"text-align: right;\">\n",
              "      <th></th>\n",
              "      <th>Useful ads</th>\n",
              "      <th>Annoying ads</th>\n",
              "      <th>output</th>\n",
              "      <th>Gender _Female</th>\n",
              "      <th>Gender _Male</th>\n",
              "      <th>Gender _Prefer not to say</th>\n",
              "      <th>R&amp;R Purchase Decsions_Maybe</th>\n",
              "      <th>R&amp;R Purchase Decsions_No</th>\n",
              "      <th>R&amp;R Purchase Decsions_Yes</th>\n",
              "      <th>Decision_Buy immediately</th>\n",
              "      <th>Decision_DEPENDS</th>\n",
              "      <th>Decision_Wait</th>\n",
              "      <th>Ads free_Maybe</th>\n",
              "      <th>Ads free_No</th>\n",
              "      <th>Ads free_Yes</th>\n",
              "      <th>Related ads_Always</th>\n",
              "      <th>Related ads_Often</th>\n",
              "      <th>Related ads_Rarely</th>\n",
              "      <th>Related ads_Sometimes</th>\n",
              "      <th>age_categories_10-19</th>\n",
              "      <th>age_categories_20-29</th>\n",
              "      <th>age_categories_30-39</th>\n",
              "      <th>age_categories_40-49</th>\n",
              "      <th>Facebook</th>\n",
              "      <th>Instagram</th>\n",
              "      <th>Linkedin</th>\n",
              "      <th>Quora</th>\n",
              "      <th>Snapchat</th>\n",
              "      <th>Twitter</th>\n",
              "      <th>WhatsApp</th>\n",
              "      <th>YouTube</th>\n",
              "      <th>others</th>\n",
              "    </tr>\n",
              "  </thead>\n",
              "  <tbody>\n",
              "    <tr>\n",
              "      <th>0</th>\n",
              "      <td>4</td>\n",
              "      <td>1</td>\n",
              "      <td>0</td>\n",
              "      <td>0</td>\n",
              "      <td>1</td>\n",
              "      <td>0</td>\n",
              "      <td>0</td>\n",
              "      <td>1</td>\n",
              "      <td>0</td>\n",
              "      <td>0</td>\n",
              "      <td>0</td>\n",
              "      <td>1</td>\n",
              "      <td>0</td>\n",
              "      <td>0</td>\n",
              "      <td>1</td>\n",
              "      <td>0</td>\n",
              "      <td>1</td>\n",
              "      <td>0</td>\n",
              "      <td>0</td>\n",
              "      <td>0</td>\n",
              "      <td>1</td>\n",
              "      <td>0</td>\n",
              "      <td>0</td>\n",
              "      <td>1</td>\n",
              "      <td>1</td>\n",
              "      <td>1</td>\n",
              "      <td>0</td>\n",
              "      <td>0</td>\n",
              "      <td>0</td>\n",
              "      <td>1</td>\n",
              "      <td>1</td>\n",
              "      <td>0</td>\n",
              "    </tr>\n",
              "    <tr>\n",
              "      <th>1</th>\n",
              "      <td>5</td>\n",
              "      <td>1</td>\n",
              "      <td>2</td>\n",
              "      <td>0</td>\n",
              "      <td>1</td>\n",
              "      <td>0</td>\n",
              "      <td>0</td>\n",
              "      <td>1</td>\n",
              "      <td>0</td>\n",
              "      <td>0</td>\n",
              "      <td>0</td>\n",
              "      <td>1</td>\n",
              "      <td>0</td>\n",
              "      <td>0</td>\n",
              "      <td>1</td>\n",
              "      <td>1</td>\n",
              "      <td>0</td>\n",
              "      <td>0</td>\n",
              "      <td>0</td>\n",
              "      <td>0</td>\n",
              "      <td>1</td>\n",
              "      <td>0</td>\n",
              "      <td>0</td>\n",
              "      <td>1</td>\n",
              "      <td>0</td>\n",
              "      <td>0</td>\n",
              "      <td>0</td>\n",
              "      <td>0</td>\n",
              "      <td>0</td>\n",
              "      <td>0</td>\n",
              "      <td>1</td>\n",
              "      <td>1</td>\n",
              "    </tr>\n",
              "    <tr>\n",
              "      <th>2</th>\n",
              "      <td>3</td>\n",
              "      <td>1</td>\n",
              "      <td>2</td>\n",
              "      <td>0</td>\n",
              "      <td>1</td>\n",
              "      <td>0</td>\n",
              "      <td>0</td>\n",
              "      <td>0</td>\n",
              "      <td>1</td>\n",
              "      <td>0</td>\n",
              "      <td>0</td>\n",
              "      <td>1</td>\n",
              "      <td>0</td>\n",
              "      <td>0</td>\n",
              "      <td>1</td>\n",
              "      <td>0</td>\n",
              "      <td>0</td>\n",
              "      <td>0</td>\n",
              "      <td>1</td>\n",
              "      <td>1</td>\n",
              "      <td>0</td>\n",
              "      <td>0</td>\n",
              "      <td>0</td>\n",
              "      <td>0</td>\n",
              "      <td>0</td>\n",
              "      <td>1</td>\n",
              "      <td>0</td>\n",
              "      <td>0</td>\n",
              "      <td>0</td>\n",
              "      <td>0</td>\n",
              "      <td>1</td>\n",
              "      <td>0</td>\n",
              "    </tr>\n",
              "    <tr>\n",
              "      <th>3</th>\n",
              "      <td>3</td>\n",
              "      <td>4</td>\n",
              "      <td>2</td>\n",
              "      <td>0</td>\n",
              "      <td>1</td>\n",
              "      <td>0</td>\n",
              "      <td>1</td>\n",
              "      <td>0</td>\n",
              "      <td>0</td>\n",
              "      <td>0</td>\n",
              "      <td>1</td>\n",
              "      <td>0</td>\n",
              "      <td>0</td>\n",
              "      <td>0</td>\n",
              "      <td>1</td>\n",
              "      <td>0</td>\n",
              "      <td>0</td>\n",
              "      <td>1</td>\n",
              "      <td>0</td>\n",
              "      <td>1</td>\n",
              "      <td>0</td>\n",
              "      <td>0</td>\n",
              "      <td>0</td>\n",
              "      <td>1</td>\n",
              "      <td>1</td>\n",
              "      <td>0</td>\n",
              "      <td>0</td>\n",
              "      <td>0</td>\n",
              "      <td>0</td>\n",
              "      <td>0</td>\n",
              "      <td>1</td>\n",
              "      <td>0</td>\n",
              "    </tr>\n",
              "    <tr>\n",
              "      <th>4</th>\n",
              "      <td>2</td>\n",
              "      <td>4</td>\n",
              "      <td>2</td>\n",
              "      <td>0</td>\n",
              "      <td>1</td>\n",
              "      <td>0</td>\n",
              "      <td>0</td>\n",
              "      <td>0</td>\n",
              "      <td>1</td>\n",
              "      <td>1</td>\n",
              "      <td>0</td>\n",
              "      <td>0</td>\n",
              "      <td>0</td>\n",
              "      <td>1</td>\n",
              "      <td>0</td>\n",
              "      <td>0</td>\n",
              "      <td>0</td>\n",
              "      <td>0</td>\n",
              "      <td>1</td>\n",
              "      <td>1</td>\n",
              "      <td>0</td>\n",
              "      <td>0</td>\n",
              "      <td>0</td>\n",
              "      <td>0</td>\n",
              "      <td>1</td>\n",
              "      <td>0</td>\n",
              "      <td>0</td>\n",
              "      <td>0</td>\n",
              "      <td>0</td>\n",
              "      <td>0</td>\n",
              "      <td>1</td>\n",
              "      <td>0</td>\n",
              "    </tr>\n",
              "  </tbody>\n",
              "</table>\n",
              "</div>"
            ],
            "text/plain": [
              "   Useful ads  Annoying ads  output  ...  WhatsApp  YouTube  others\n",
              "0           4             1       0  ...         1        1       0\n",
              "1           5             1       2  ...         0        1       1\n",
              "2           3             1       2  ...         0        1       0\n",
              "3           3             4       2  ...         0        1       0\n",
              "4           2             4       2  ...         0        1       0\n",
              "\n",
              "[5 rows x 32 columns]"
            ]
          },
          "metadata": {
            "tags": []
          },
          "execution_count": 234
        }
      ]
    },
    {
      "cell_type": "code",
      "metadata": {
        "id": "i8FKrPR9xsfu",
        "colab_type": "code",
        "colab": {}
      },
      "source": [
        "import xgboost as xgb\n",
        "from sklearn.model_selection import train_test_split\n"
      ],
      "execution_count": 0,
      "outputs": []
    },
    {
      "cell_type": "code",
      "metadata": {
        "id": "ItoPIfn44Q8L",
        "colab_type": "code",
        "colab": {}
      },
      "source": [
        "from xgboost import XGBClassifier\n",
        "import numpy as np"
      ],
      "execution_count": 0,
      "outputs": []
    },
    {
      "cell_type": "code",
      "metadata": {
        "id": "hEsNXXLL3PeR",
        "colab_type": "code",
        "colab": {}
      },
      "source": [
        "X_train, X_test, Y_train, Y_test = train_test_split(df4.drop(\"output\", axis=1), df4[\"output\"], test_size=0.2)"
      ],
      "execution_count": 0,
      "outputs": []
    },
    {
      "cell_type": "code",
      "metadata": {
        "id": "Mg0CGNlE3Y5I",
        "colab_type": "code",
        "colab": {}
      },
      "source": [
        "linearRegressor = XGBClassifier()"
      ],
      "execution_count": 0,
      "outputs": []
    },
    {
      "cell_type": "code",
      "metadata": {
        "id": "5ILAkajd6VK0",
        "colab_type": "code",
        "outputId": "795def38-d62d-48be-ffd8-29103a9253fe",
        "colab": {
          "base_uri": "https://localhost:8080/",
          "height": 136
        }
      },
      "source": [
        "linearRegressor.fit(np.array(X_train),np.array(Y_train))"
      ],
      "execution_count": 0,
      "outputs": [
        {
          "output_type": "execute_result",
          "data": {
            "text/plain": [
              "XGBClassifier(base_score=0.5, booster='gbtree', colsample_bylevel=1,\n",
              "              colsample_bynode=1, colsample_bytree=1, gamma=0,\n",
              "              learning_rate=0.1, max_delta_step=0, max_depth=3,\n",
              "              min_child_weight=1, missing=None, n_estimators=100, n_jobs=1,\n",
              "              nthread=None, objective='multi:softprob', random_state=0,\n",
              "              reg_alpha=0, reg_lambda=1, scale_pos_weight=1, seed=None,\n",
              "              silent=None, subsample=1, verbosity=1)"
            ]
          },
          "metadata": {
            "tags": []
          },
          "execution_count": 249
        }
      ]
    },
    {
      "cell_type": "code",
      "metadata": {
        "id": "llE6pX3M6WW1",
        "colab_type": "code",
        "colab": {}
      },
      "source": [
        "predictions = linearRegressor.predict(np.array(X_test))"
      ],
      "execution_count": 0,
      "outputs": []
    },
    {
      "cell_type": "code",
      "metadata": {
        "id": "_yYGi6Vq6oFM",
        "colab_type": "code",
        "colab": {}
      },
      "source": [
        "from sklearn.metrics import accuracy_score"
      ],
      "execution_count": 0,
      "outputs": []
    },
    {
      "cell_type": "code",
      "metadata": {
        "id": "KzjYzen97JjN",
        "colab_type": "code",
        "outputId": "29e73465-216d-477d-ba37-cf3450b9d9e8",
        "colab": {
          "base_uri": "https://localhost:8080/",
          "height": 34
        }
      },
      "source": [
        "accuracy_score(Y_test, predictions)"
      ],
      "execution_count": 0,
      "outputs": [
        {
          "output_type": "execute_result",
          "data": {
            "text/plain": [
              "0.7142857142857143"
            ]
          },
          "metadata": {
            "tags": []
          },
          "execution_count": 253
        }
      ]
    },
    {
      "cell_type": "code",
      "metadata": {
        "id": "Q9qG5Ukp7WPb",
        "colab_type": "code",
        "colab": {}
      },
      "source": [
        ""
      ],
      "execution_count": 0,
      "outputs": []
    }
  ]
}